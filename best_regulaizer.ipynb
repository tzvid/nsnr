{
  "nbformat": 4,
  "nbformat_minor": 0,
  "metadata": {
    "colab": {
      "provenance": []
    },
    "kernelspec": {
      "name": "python3",
      "display_name": "Python 3"
    },
    "language_info": {
      "name": "python"
    }
  },
  "cells": [
    {
      "cell_type": "code",
      "execution_count": 3,
      "metadata": {
        "id": "-sq_-oZQg4M_"
      },
      "outputs": [],
      "source": [
        "import numpy as np\n",
        "from scipy.linalg import sqrtm\n",
        "import matplotlib.pyplot as plt\n",
        "\n",
        "\n"
      ]
    },
    {
      "cell_type": "code",
      "source": [
        "\n",
        "def sqrtm_numpy_batch(batch_A):\n",
        "    # Eigenvalue decomposition for symmetric matrices\n",
        "    eigvals, eigvecs = np.linalg.eigh(batch_A)\n",
        "\n",
        "    # Taking square root of the eigenvalues\n",
        "    sqrt_eigvals = np.sqrt(eigvals)\n",
        "\n",
        "    # Reconstruct each matrix in the batch: sqrt(A) = V * sqrt(D) * V^T\n",
        "    sqrt_A = np.einsum('...ij,...j,...kj->...ik', eigvecs, sqrt_eigvals, eigvecs)\n",
        "\n",
        "    return sqrt_A\n",
        "\n",
        "def RSCM(x, alpha):\n",
        "    N, n, d = x.shape\n",
        "    SCM = x.swapaxes(2,1) @ x / n\n",
        "    return SCM + alpha * np.eye(d)\n",
        "\n",
        "\n",
        "def KA(x, alpha, C_prior):\n",
        "    N, n, d = x.shape\n",
        "    SCM = x.swapaxes(2,1) @ x / n\n",
        "    return SCM * (1-alpha) + alpha * C_prior\n",
        "\n",
        "def RSCM2(x, alpha):\n",
        "\n",
        "    N, n, d = x.shape\n",
        "    SCM = x.swapaxes(2,1) @ x / n\n",
        "    mu = np.trace(SCM, axis1=1, axis2=2) / d\n",
        "    return   (1 - alpha) * SCM + alpha * mu.reshape(-1,1,1) * np.eye(d)\n",
        "\n",
        "\n",
        "def Frobenious(C1, C2):\n",
        "    return np.linalg.norm(C1 - C2, ord='fro', axis=(1,2))\n",
        "\n",
        "def Spectral(C1, C2):\n",
        "    return np.linalg.norm(C1 - C2, ord=2, axis=(1,2))\n",
        "\n",
        "\n",
        "def kl(sigma_true, sigma_est):\n",
        "    d = sigma_true.shape[-1]\n",
        "    inv_sigma_est = np.linalg.inv(sigma_est)\n",
        "    trace_term = np.trace(inv_sigma_est @ sigma_true, axis1=1, axis2=2)\n",
        "    log_det_term = (np.linalg.slogdet(sigma_est)[1] - np.linalg.slogdet(sigma_true)[1])\n",
        "    return (trace_term - d + log_det_term)\n",
        "\n",
        "def sym_kl(sigma_true, sigma_est):\n",
        "  return (kl(sigma_true, sigma_est) + kl(sigma_est, sigma_true)) / 2\n",
        "\n",
        "def nsnr_single(sigma_true, sigma_est):\n",
        "    sqrtinvest = sqrtm(np.linalg.inv(sigma_est))\n",
        "    Q = sqrtinvest @ sigma_true @ sqrtinvest.T\n",
        "    eigQ = np.linalg.eigh(Q)[0]\n",
        "    qmax = np.max(eigQ)\n",
        "    qmin = np.min(eigQ)\n",
        "    cond = qmax/qmin + 1e-6\n",
        "    return np.log((cond+1)**2/4/cond)\n",
        "\n",
        "\n",
        "def nsnr(sigma_true, sigma_est):\n",
        "    sqrtinvest = sqrtm_numpy_batch(np.linalg.inv(sigma_est))\n",
        "    Q = sqrtinvest @ sigma_true @ sqrtinvest.swapaxes(2,1)\n",
        "    eigQ = np.linalg.eigh(Q)[0]\n",
        "    qmax = np.max(eigQ,1)\n",
        "    qmin = np.min(eigQ,1)\n",
        "    cond = qmax/qmin + 1e-6\n",
        "    return np.log((cond+1)**2/4/cond)\n",
        "\n",
        "\n",
        "\n",
        "def nsnr_old(sigma_true, sigma_est):\n",
        "    return np.array([nsnr_single(sigma_true, sigma_est[i]) for i in range(sigma_est.shape[0])])\n",
        "\n",
        "\n",
        "def wishart_samples(df, scale_matrix, n_samples):\n",
        "    \"\"\"\n",
        "    Generate multiple samples from a Wishart distribution.\n",
        "\n",
        "    Parameters:\n",
        "    df: degrees of freedom (nu)\n",
        "    scale_matrix: scale matrix (covariance matrix)\n",
        "    n_samples: number of Wishart samples to generate\n",
        "\n",
        "    Returns:\n",
        "    An array of Wishart-distributed matrices.\n",
        "    \"\"\"\n",
        "    n = scale_matrix.shape[0]  # Dimensionality\n",
        "    chol_scale = np.linalg.cholesky(scale_matrix)\n",
        "\n",
        "    # Array to store Wishart samples\n",
        "    samples = np.zeros((n_samples, n, n))\n",
        "\n",
        "    for i in range(n_samples):\n",
        "        wishart_matrix = np.zeros((n, n))\n",
        "\n",
        "        # Sample df times for each Wishart sample\n",
        "        for j in range(df):\n",
        "            z = np.random.normal(size=(n,))\n",
        "            x = chol_scale @ z\n",
        "            wishart_matrix += np.outer(x, x)\n",
        "\n",
        "        samples[i] = wishart_matrix\n",
        "\n",
        "    return samples"
      ],
      "metadata": {
        "id": "XMjhY_aghs0L"
      },
      "execution_count": 4,
      "outputs": []
    },
    {
      "cell_type": "markdown",
      "source": [],
      "metadata": {
        "id": "s91HhFtm4Ex2"
      }
    },
    {
      "cell_type": "markdown",
      "source": [],
      "metadata": {
        "id": "731i54Vq4Ejc"
      }
    },
    {
      "cell_type": "code",
      "source": [
        "np.random.seed(1)\n",
        "d = 10\n",
        "n = 50\n",
        "N = 1000\n",
        "A = np.random.randn(d , 3 )\n",
        "C0 = A @ A.swapaxes(1,0) / 5\n",
        "\n",
        "A = np.random.randn(N, d , d )\n",
        "C_train = 1 * A @ A.swapaxes(2,1) / (d ) + C0\n",
        "\n",
        "C_half = sqrtm_numpy_batch(C_train)\n",
        "x_train = np.random.randn(N, n, d) @  C_half\n",
        "\n",
        "C_prior = x_train.reshape(-1,d ).T @ x_train.reshape(-1,d ) / (n * N)\n",
        "\n",
        "## Bayesian test\n",
        "# A = np.random.randn(N, d , d )\n",
        "# C = A @ A.swapaxes(2,1) / (d ) + C0\n",
        "# C_half = sqrtm_numpy_batch(C)\n",
        "# x = np.random.randn(N, n, d) @  C_half\n",
        "\n",
        "## classical test\n",
        "\n",
        "A = np.random.randn(d , d )\n",
        "C = 1 * A @ A.swapaxes(1,0) / (d ) + C0\n",
        "\n",
        "\n",
        "C_half = sqrtm_numpy_batch(C)\n",
        "x = np.random.randn(N, n, d) @  C_half\n"
      ],
      "metadata": {
        "id": "ggZP_05hg_X5"
      },
      "execution_count": 8,
      "outputs": []
    },
    {
      "cell_type": "code",
      "source": [
        "alpha = np.linspace(0, 0.9, 100)\n",
        "frob_err = []\n",
        "spectral_err = []\n",
        "kl_err = []\n",
        "sym_kl_err = []\n",
        "nsnr_err = []\n",
        "nsnr_acc = []\n",
        "for a in alpha:\n",
        "    SCM = KA(x, a, C_prior)\n",
        "    frob_err.append(np.mean(Frobenious(C, SCM)))\n",
        "    spectral_err.append(np.mean(Spectral(C, SCM)))\n",
        "    kl_err.append(np.mean(kl(C, SCM)))\n",
        "    sym_kl_err.append(np.mean(sym_kl(C, SCM)))\n",
        "    nsnr_err.append(np.mean(nsnr(C, SCM)))\n",
        "    nsnr_acc.append(np.mean(np.exp(-0.5 * nsnr(C, SCM))))\n",
        "plt.plot(alpha, frob_err, label='Frobenious')\n",
        "plt.plot(alpha, spectral_err, label='Spectral')\n",
        "plt.plot(alpha, kl_err, label='KL')\n",
        "plt.plot(alpha, sym_kl_err, label='Sym KL')\n",
        "plt.plot(alpha, nsnr_err, label='NSNR')\n",
        "plt.legend()\n",
        "plt.show()\n",
        "\n"
      ],
      "metadata": {
        "colab": {
          "base_uri": "https://localhost:8080/",
          "height": 430
        },
        "id": "_Jbny7g1hhmY",
        "outputId": "ada8c124-c4f2-4483-d0cd-917d8f05a057"
      },
      "execution_count": 11,
      "outputs": [
        {
          "output_type": "display_data",
          "data": {
            "text/plain": [
              "<Figure size 640x480 with 1 Axes>"
            ],
            "image/png": "[encoded data removed]"
          },
          "metadata": {}
        }
      ]
    },
    {
      "cell_type": "code",
      "source": [
        "ind_frob = np.argmin(frob_err)\n",
        "ind_spectral = np.argmin(spectral_err)\n",
        "ind_kl = np.argmin(kl_err)\n",
        "ind_sym_kl = np.argmin(sym_kl_err)\n",
        "ind_nsnr = np.argmin(nsnr_err)\n",
        "print('            ','frob', 'spectral', 'kl', 'sym_kl', 'nsnr')\n",
        "print('best shinkage:',round(alpha[ind_frob],2), round(alpha[ind_spectral],2), round(alpha[ind_kl],2), round(alpha[ind_sym_kl],2), round(alpha[ind_nsnr],2))\n",
        "print('nsnr distance:', round(nsnr_acc[ind_frob],2), round(nsnr_acc[ind_spectral],2),round(nsnr_acc[ind_kl],2), round(nsnr_acc[ind_sym_kl],2), round(nsnr_acc[ind_nsnr],2))"
      ],
      "metadata": {
        "colab": {
          "base_uri": "https://localhost:8080/"
        },
        "id": "Lm4_DMJ3hiag",
        "outputId": "701c6fed-e3ef-4955-c5b2-f6c1598b36b7"
      },
      "execution_count": 12,
      "outputs": [
        {
          "output_type": "stream",
          "name": "stdout",
          "text": [
            "             frob spectral kl sym_kl nsnr\n",
            "best shinkage: 0.38 0.44 0.04 0.02 0.02\n",
            "nsnr distance: 0.43 0.41 0.75 0.76 0.76\n"
          ]
        }
      ]
    }
  ]
}